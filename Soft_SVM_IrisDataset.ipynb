{
 "cells": [
  {
   "cell_type": "code",
   "execution_count": 1,
   "id": "5fa6a0fc",
   "metadata": {},
   "outputs": [],
   "source": [
    "import numpy as np\n",
    "import pandas as pd\n",
    "import matplotlib.pyplot as plt\n",
    "import seaborn as sns\n",
    "from cvxopt import matrix, solvers"
   ]
  },
  {
   "cell_type": "markdown",
   "id": "b013ae92",
   "metadata": {},
   "source": [
    "# Reading the dataset"
   ]
  },
  {
   "cell_type": "code",
   "execution_count": 2,
   "id": "77136ce9",
   "metadata": {},
   "outputs": [],
   "source": [
    "data = pd.read_csv(\"./dataset/Iris.csv\")"
   ]
  },
  {
   "cell_type": "code",
   "execution_count": 3,
   "id": "2a506e96",
   "metadata": {},
   "outputs": [
    {
     "data": {
      "text/html": [
       "<div>\n",
       "<style scoped>\n",
       "    .dataframe tbody tr th:only-of-type {\n",
       "        vertical-align: middle;\n",
       "    }\n",
       "\n",
       "    .dataframe tbody tr th {\n",
       "        vertical-align: top;\n",
       "    }\n",
       "\n",
       "    .dataframe thead th {\n",
       "        text-align: right;\n",
       "    }\n",
       "</style>\n",
       "<table border=\"1\" class=\"dataframe\">\n",
       "  <thead>\n",
       "    <tr style=\"text-align: right;\">\n",
       "      <th></th>\n",
       "      <th>Id</th>\n",
       "      <th>SepalLengthCm</th>\n",
       "      <th>SepalWidthCm</th>\n",
       "      <th>PetalLengthCm</th>\n",
       "      <th>PetalWidthCm</th>\n",
       "      <th>Species</th>\n",
       "    </tr>\n",
       "  </thead>\n",
       "  <tbody>\n",
       "    <tr>\n",
       "      <th>0</th>\n",
       "      <td>1</td>\n",
       "      <td>5.1</td>\n",
       "      <td>3.5</td>\n",
       "      <td>1.4</td>\n",
       "      <td>0.2</td>\n",
       "      <td>Iris-setosa</td>\n",
       "    </tr>\n",
       "    <tr>\n",
       "      <th>1</th>\n",
       "      <td>2</td>\n",
       "      <td>4.9</td>\n",
       "      <td>3.0</td>\n",
       "      <td>1.4</td>\n",
       "      <td>0.2</td>\n",
       "      <td>Iris-setosa</td>\n",
       "    </tr>\n",
       "    <tr>\n",
       "      <th>2</th>\n",
       "      <td>3</td>\n",
       "      <td>4.7</td>\n",
       "      <td>3.2</td>\n",
       "      <td>1.3</td>\n",
       "      <td>0.2</td>\n",
       "      <td>Iris-setosa</td>\n",
       "    </tr>\n",
       "    <tr>\n",
       "      <th>3</th>\n",
       "      <td>4</td>\n",
       "      <td>4.6</td>\n",
       "      <td>3.1</td>\n",
       "      <td>1.5</td>\n",
       "      <td>0.2</td>\n",
       "      <td>Iris-setosa</td>\n",
       "    </tr>\n",
       "    <tr>\n",
       "      <th>4</th>\n",
       "      <td>5</td>\n",
       "      <td>5.0</td>\n",
       "      <td>3.6</td>\n",
       "      <td>1.4</td>\n",
       "      <td>0.2</td>\n",
       "      <td>Iris-setosa</td>\n",
       "    </tr>\n",
       "  </tbody>\n",
       "</table>\n",
       "</div>"
      ],
      "text/plain": [
       "   Id  SepalLengthCm  SepalWidthCm  PetalLengthCm  PetalWidthCm      Species\n",
       "0   1            5.1           3.5            1.4           0.2  Iris-setosa\n",
       "1   2            4.9           3.0            1.4           0.2  Iris-setosa\n",
       "2   3            4.7           3.2            1.3           0.2  Iris-setosa\n",
       "3   4            4.6           3.1            1.5           0.2  Iris-setosa\n",
       "4   5            5.0           3.6            1.4           0.2  Iris-setosa"
      ]
     },
     "execution_count": 3,
     "metadata": {},
     "output_type": "execute_result"
    }
   ],
   "source": [
    "data.head()"
   ]
  },
  {
   "cell_type": "markdown",
   "id": "e13eadff",
   "metadata": {},
   "source": [
    "# Checking for any null values"
   ]
  },
  {
   "cell_type": "code",
   "execution_count": 4,
   "id": "7230eab7",
   "metadata": {},
   "outputs": [
    {
     "data": {
      "text/plain": [
       "False"
      ]
     },
     "execution_count": 4,
     "metadata": {},
     "output_type": "execute_result"
    }
   ],
   "source": [
    "data.isnull().values.any()"
   ]
  },
  {
   "cell_type": "markdown",
   "id": "0d98cf69",
   "metadata": {},
   "source": [
    "# Plotting scatter plot to check if data are linearly seperable or not"
   ]
  },
  {
   "cell_type": "code",
   "execution_count": 5,
   "id": "ad351344",
   "metadata": {},
   "outputs": [
    {
     "data": {
      "image/png": "[encoded data removed]",
      "text/plain": [
       "<Figure size 432x288 with 1 Axes>"
      ]
     },
     "metadata": {
      "needs_background": "light"
     },
     "output_type": "display_data"
    }
   ],
   "source": [
    "data.plot(kind=\"scatter\", x=\"SepalLengthCm\",   y=\"SepalWidthCm\")\n",
    "plt.show()"
   ]
  },
  {
   "cell_type": "code",
   "execution_count": 6,
   "id": "0ce7f68b",
   "metadata": {},
   "outputs": [
    {
     "data": {
      "text/plain": [
       "array(['Iris-setosa', 'Iris-versicolor', 'Iris-virginica'], dtype=object)"
      ]
     },
     "execution_count": 6,
     "metadata": {},
     "output_type": "execute_result"
    }
   ],
   "source": [
    "data.Species.unique()"
   ]
  },
  {
   "cell_type": "markdown",
   "id": "8a70eeb7",
   "metadata": {},
   "source": [
    "# Making the dataset linearly seperable"
   ]
  },
  {
   "cell_type": "code",
   "execution_count": 7,
   "id": "058a565a",
   "metadata": {},
   "outputs": [],
   "source": [
    "data = data[data.Species != \"Iris-virginica\"]"
   ]
  },
  {
   "cell_type": "code",
   "execution_count": 8,
   "id": "47d10973",
   "metadata": {},
   "outputs": [
    {
     "name": "stderr",
     "output_type": "stream",
     "text": [
      "c:\\users\\pujag\\appdata\\local\\programs\\python\\python39\\lib\\site-packages\\pandas\\core\\generic.py:6610: SettingWithCopyWarning: \n",
      "A value is trying to be set on a copy of a slice from a DataFrame\n",
      "\n",
      "See the caveats in the documentation: https://pandas.pydata.org/pandas-docs/stable/user_guide/indexing.html#returning-a-view-versus-a-copy\n",
      "  return self._update_inplace(result)\n"
     ]
    }
   ],
   "source": [
    "data[\"Species\"].replace({\"Iris-setosa\": -1, \"Iris-versicolor\": 1}, inplace=True)"
   ]
  },
  {
   "cell_type": "code",
   "execution_count": 9,
   "id": "1c785aaa",
   "metadata": {},
   "outputs": [
    {
     "data": {
      "text/html": [
       "<div>\n",
       "<style scoped>\n",
       "    .dataframe tbody tr th:only-of-type {\n",
       "        vertical-align: middle;\n",
       "    }\n",
       "\n",
       "    .dataframe tbody tr th {\n",
       "        vertical-align: top;\n",
       "    }\n",
       "\n",
       "    .dataframe thead th {\n",
       "        text-align: right;\n",
       "    }\n",
       "</style>\n",
       "<table border=\"1\" class=\"dataframe\">\n",
       "  <thead>\n",
       "    <tr style=\"text-align: right;\">\n",
       "      <th></th>\n",
       "      <th>Id</th>\n",
       "      <th>SepalLengthCm</th>\n",
       "      <th>SepalWidthCm</th>\n",
       "      <th>PetalLengthCm</th>\n",
       "      <th>PetalWidthCm</th>\n",
       "      <th>Species</th>\n",
       "    </tr>\n",
       "  </thead>\n",
       "  <tbody>\n",
       "    <tr>\n",
       "      <th>0</th>\n",
       "      <td>1</td>\n",
       "      <td>5.1</td>\n",
       "      <td>3.5</td>\n",
       "      <td>1.4</td>\n",
       "      <td>0.2</td>\n",
       "      <td>-1</td>\n",
       "    </tr>\n",
       "    <tr>\n",
       "      <th>1</th>\n",
       "      <td>2</td>\n",
       "      <td>4.9</td>\n",
       "      <td>3.0</td>\n",
       "      <td>1.4</td>\n",
       "      <td>0.2</td>\n",
       "      <td>-1</td>\n",
       "    </tr>\n",
       "    <tr>\n",
       "      <th>2</th>\n",
       "      <td>3</td>\n",
       "      <td>4.7</td>\n",
       "      <td>3.2</td>\n",
       "      <td>1.3</td>\n",
       "      <td>0.2</td>\n",
       "      <td>-1</td>\n",
       "    </tr>\n",
       "    <tr>\n",
       "      <th>3</th>\n",
       "      <td>4</td>\n",
       "      <td>4.6</td>\n",
       "      <td>3.1</td>\n",
       "      <td>1.5</td>\n",
       "      <td>0.2</td>\n",
       "      <td>-1</td>\n",
       "    </tr>\n",
       "    <tr>\n",
       "      <th>4</th>\n",
       "      <td>5</td>\n",
       "      <td>5.0</td>\n",
       "      <td>3.6</td>\n",
       "      <td>1.4</td>\n",
       "      <td>0.2</td>\n",
       "      <td>-1</td>\n",
       "    </tr>\n",
       "  </tbody>\n",
       "</table>\n",
       "</div>"
      ],
      "text/plain": [
       "   Id  SepalLengthCm  SepalWidthCm  PetalLengthCm  PetalWidthCm  Species\n",
       "0   1            5.1           3.5            1.4           0.2       -1\n",
       "1   2            4.9           3.0            1.4           0.2       -1\n",
       "2   3            4.7           3.2            1.3           0.2       -1\n",
       "3   4            4.6           3.1            1.5           0.2       -1\n",
       "4   5            5.0           3.6            1.4           0.2       -1"
      ]
     },
     "execution_count": 9,
     "metadata": {},
     "output_type": "execute_result"
    }
   ],
   "source": [
    "data.head()"
   ]
  },
  {
   "cell_type": "code",
   "execution_count": 10,
   "id": "984b2272",
   "metadata": {},
   "outputs": [
    {
     "data": {
      "image/png": "[encoded data removed]",
      "text/plain": [
       "<Figure size 720x432 with 1 Axes>"
      ]
     },
     "metadata": {
      "needs_background": "light"
     },
     "output_type": "display_data"
    }
   ],
   "source": [
    "setosa = data.loc[data.Species == -1]\n",
    "versicolor = data.loc[data.Species == 1]\n",
    "set_1 = setosa.iloc[:, 1];\n",
    "set_2 = setosa.iloc[:, 2];\n",
    "vcolor_1 = versicolor.iloc[:, 1];\n",
    "vcolor_2 = versicolor.iloc[:, 2];\n",
    "fig, ax = plt.subplots(figsize=(10,6))\n",
    "plt.scatter(set_1,set_2,label='Iris-setosa')\n",
    "plt.scatter(vcolor_1,vcolor_2,label='Iris-versicolor')\n",
    "plt.legend()\n",
    "plt.show()"
   ]
  },
  {
   "cell_type": "markdown",
   "id": "ec84340b",
   "metadata": {},
   "source": [
    "# Normalizing the data of feature columns between 0 to 1 and defining X and Y"
   ]
  },
  {
   "cell_type": "code",
   "execution_count": 11,
   "id": "ec7e3974",
   "metadata": {},
   "outputs": [
    {
     "data": {
      "text/html": [
       "<div>\n",
       "<style scoped>\n",
       "    .dataframe tbody tr th:only-of-type {\n",
       "        vertical-align: middle;\n",
       "    }\n",
       "\n",
       "    .dataframe tbody tr th {\n",
       "        vertical-align: top;\n",
       "    }\n",
       "\n",
       "    .dataframe thead th {\n",
       "        text-align: right;\n",
       "    }\n",
       "</style>\n",
       "<table border=\"1\" class=\"dataframe\">\n",
       "  <thead>\n",
       "    <tr style=\"text-align: right;\">\n",
       "      <th></th>\n",
       "      <th>SepalLengthCm</th>\n",
       "      <th>SepalWidthCm</th>\n",
       "    </tr>\n",
       "  </thead>\n",
       "  <tbody>\n",
       "    <tr>\n",
       "      <th>0</th>\n",
       "      <td>0.296296</td>\n",
       "      <td>0.625000</td>\n",
       "    </tr>\n",
       "    <tr>\n",
       "      <th>1</th>\n",
       "      <td>0.222222</td>\n",
       "      <td>0.416667</td>\n",
       "    </tr>\n",
       "    <tr>\n",
       "      <th>2</th>\n",
       "      <td>0.148148</td>\n",
       "      <td>0.500000</td>\n",
       "    </tr>\n",
       "    <tr>\n",
       "      <th>3</th>\n",
       "      <td>0.111111</td>\n",
       "      <td>0.458333</td>\n",
       "    </tr>\n",
       "    <tr>\n",
       "      <th>4</th>\n",
       "      <td>0.259259</td>\n",
       "      <td>0.666667</td>\n",
       "    </tr>\n",
       "  </tbody>\n",
       "</table>\n",
       "</div>"
      ],
      "text/plain": [
       "   SepalLengthCm  SepalWidthCm\n",
       "0       0.296296      0.625000\n",
       "1       0.222222      0.416667\n",
       "2       0.148148      0.500000\n",
       "3       0.111111      0.458333\n",
       "4       0.259259      0.666667"
      ]
     },
     "execution_count": 11,
     "metadata": {},
     "output_type": "execute_result"
    }
   ],
   "source": [
    "Y = data.Species.values\n",
    "X = data.drop([\"Species\",\"PetalLengthCm\",\"PetalWidthCm\",\"Id\"], axis = 1)\n",
    "X = (X - np.min(X))/(np.max(X)-np.min(X)).values\n",
    "X.head()"
   ]
  },
  {
   "cell_type": "markdown",
   "id": "f5c044ce",
   "metadata": {},
   "source": [
    "# Train & Test Split (70:30)"
   ]
  },
  {
   "cell_type": "code",
   "execution_count": 12,
   "id": "89f25a77",
   "metadata": {},
   "outputs": [
    {
     "name": "stdout",
     "output_type": "stream",
     "text": [
      "features:  (70, 2)\n",
      "labels:  (70,)\n",
      "test_features:  (30, 2)\n",
      "test_labels:  (30,)\n"
     ]
    }
   ],
   "source": [
    "from sklearn.model_selection import train_test_split\n",
    "X_train, X_test, Y_train, Y_test = train_test_split(X, Y, test_size = 0.3,random_state=40)\n",
    "print(\"features: \", X_train.shape)\n",
    "print(\"labels: \", Y_train.shape)\n",
    "print(\"test_features: \", X_test.shape)\n",
    "print(\"test_labels: \", Y_test.shape)"
   ]
  },
  {
   "cell_type": "markdown",
   "id": "d471b53a",
   "metadata": {},
   "source": [
    "# Implementing Soft SVM using  cvxopt_solvers"
   ]
  },
  {
   "cell_type": "code",
   "execution_count": 13,
   "id": "f476a18e",
   "metadata": {},
   "outputs": [],
   "source": [
    "def linear_kernel_function(X, X1):\n",
    "    return np.dot(X, X1.T)"
   ]
  },
  {
   "cell_type": "code",
   "execution_count": 14,
   "id": "4b789e7a",
   "metadata": {},
   "outputs": [],
   "source": [
    "C = 100\n",
    "samples, features = X_train.shape\n",
    "q = matrix(np.ones((samples, 1)) * -1)\n",
    "A = matrix(Y_train.astype('float'), (1, samples), 'd')\n",
    "b = matrix(np.zeros(1))    \n",
    "G = matrix(np.vstack((np.eye(samples) * -1, np.eye(samples))))        \n",
    "h = matrix(np.hstack((np.zeros(samples), np.ones(samples) * C)))\n",
    "K = linear_kernel_function(X_train, X_train)\n",
    "P = matrix(np.matmul(Y_train,Y_train.T) * K)"
   ]
  },
  {
   "cell_type": "code",
   "execution_count": 15,
   "id": "6559177f",
   "metadata": {},
   "outputs": [
    {
     "name": "stdout",
     "output_type": "stream",
     "text": [
      "     pcost       dcost       gap    pres   dres\n",
      " 0: -1.0752e+02 -1.9171e+05  4e+05  3e-01  7e-13\n",
      " 1:  2.2688e+02 -1.8826e+04  4e+04  3e-02  9e-13\n",
      " 2:  2.9132e+02 -1.8233e+03  3e+03  1e-03  1e-13\n",
      " 3:  9.2913e+01 -1.1293e+02  2e+02  1e-05  2e-14\n",
      " 4:  1.3206e+01 -1.5851e+01  3e+01  2e-16  2e-14\n",
      " 5:  1.7141e+00 -2.4532e+00  4e+00  2e-16  9e-15\n",
      " 6:  1.5876e-01 -4.3218e-01  6e-01  2e-16  4e-15\n",
      " 7:  1.3914e-02 -3.9609e-01  4e-01  3e-16  3e-15\n",
      " 8: -1.8698e-01 -2.8440e-01  1e-01  2e-16  1e-15\n",
      " 9: -2.2328e-01 -2.2668e-01  3e-03  2e-16  1e-15\n",
      "10: -2.2541e-01 -2.2545e-01  4e-05  2e-16  1e-15\n",
      "11: -2.2544e-01 -2.2544e-01  4e-07  2e-16  1e-15\n",
      "12: -2.2544e-01 -2.2544e-01  4e-09  2e-16  1e-15\n",
      "Optimal solution found.\n"
     ]
    }
   ],
   "source": [
    "output = solvers.qp(P, q, G, h, A, b)\n",
    "alpha = np.array(output['x'])\n",
    "index = (alpha > 1e-4).flatten()\n",
    "alpha = alpha[index]\n",
    "sv_X = X_train[index]\n",
    "sv_Y = Y_train[index]"
   ]
  },
  {
   "cell_type": "code",
   "execution_count": 16,
   "id": "234ca068",
   "metadata": {},
   "outputs": [
    {
     "data": {
      "text/plain": [
       "array([[0.22544031],\n",
       "       [0.22544031]])"
      ]
     },
     "execution_count": 16,
     "metadata": {},
     "output_type": "execute_result"
    }
   ],
   "source": [
    "alpha"
   ]
  },
  {
   "cell_type": "code",
   "execution_count": 17,
   "id": "5d14dbd9",
   "metadata": {},
   "outputs": [],
   "source": [
    "bias = sv_Y - np.sum(linear_kernel_function(sv_X, sv_X) * alpha * sv_Y, axis=0)\n",
    "bias = np.sum(bias) / bias.size"
   ]
  },
  {
   "cell_type": "code",
   "execution_count": 18,
   "id": "94d1bae2",
   "metadata": {},
   "outputs": [],
   "source": [
    "weights = np.zeros(features)\n",
    "sv_X=sv_X.values\n",
    "for i in range(len(alpha)):\n",
    "    weights += alpha[i] * sv_Y[i] * sv_X[i]"
   ]
  },
  {
   "cell_type": "code",
   "execution_count": 19,
   "id": "b871eb38",
   "metadata": {},
   "outputs": [
    {
     "data": {
      "text/plain": [
       "array([ 0.04174821, -0.02818004])"
      ]
     },
     "execution_count": 19,
     "metadata": {},
     "output_type": "execute_result"
    }
   ],
   "source": [
    "weights"
   ]
  },
  {
   "cell_type": "code",
   "execution_count": 20,
   "id": "9d02afc1",
   "metadata": {},
   "outputs": [
    {
     "data": {
      "text/plain": [
       "-0.00519678179661387"
      ]
     },
     "execution_count": 20,
     "metadata": {},
     "output_type": "execute_result"
    }
   ],
   "source": [
    "bias"
   ]
  },
  {
   "cell_type": "code",
   "execution_count": 21,
   "id": "084845d4",
   "metadata": {},
   "outputs": [],
   "source": [
    "def predict(X,w):\n",
    "    l_output =np.sign(np.dot(X, w)+bias) \n",
    "    return l_output"
   ]
  },
  {
   "cell_type": "code",
   "execution_count": 22,
   "id": "f8330169",
   "metadata": {},
   "outputs": [],
   "source": [
    "def accuracy(y_true, y_pred):\n",
    "    accuracy = np.sum(y_true == y_pred) / len(y_true)\n",
    "    return accuracy"
   ]
  },
  {
   "cell_type": "markdown",
   "id": "4bb5be7b",
   "metadata": {},
   "source": [
    "# Predicting the accuracy of train data"
   ]
  },
  {
   "cell_type": "code",
   "execution_count": 23,
   "id": "044b0aa6",
   "metadata": {},
   "outputs": [],
   "source": [
    "y_predict_train = predict(X_train,weights)"
   ]
  },
  {
   "cell_type": "code",
   "execution_count": 24,
   "id": "c5ff2358",
   "metadata": {},
   "outputs": [
    {
     "name": "stdout",
     "output_type": "stream",
     "text": [
      "Train accuracy:  0.9857142857142858\n"
     ]
    }
   ],
   "source": [
    "print(\"Train accuracy: \", accuracy(Y_train, y_predict_train)) "
   ]
  },
  {
   "cell_type": "markdown",
   "id": "5afd0483",
   "metadata": {},
   "source": [
    "# Predicting the accuracy of test data"
   ]
  },
  {
   "cell_type": "code",
   "execution_count": 25,
   "id": "5eb1d872",
   "metadata": {},
   "outputs": [],
   "source": [
    "y_predict_test = predict(X_test,weights)"
   ]
  },
  {
   "cell_type": "code",
   "execution_count": 26,
   "id": "6c689abe",
   "metadata": {},
   "outputs": [
    {
     "name": "stdout",
     "output_type": "stream",
     "text": [
      "Test accuracy:  1.0\n"
     ]
    }
   ],
   "source": [
    "print(\"Test accuracy: \", accuracy(Y_test, y_predict_test)) "
   ]
  }
 ],
 "metadata": {
  "kernelspec": {
   "display_name": "Python 3 (ipykernel)",
   "language": "python",
   "name": "python3"
  },
  "language_info": {
   "codemirror_mode": {
    "name": "ipython",
    "version": 3
   },
   "file_extension": ".py",
   "mimetype": "text/x-python",
   "name": "python",
   "nbconvert_exporter": "python",
   "pygments_lexer": "ipython3",
   "version": "3.9.6"
  }
 },
 "nbformat": 4,
 "nbformat_minor": 5
}

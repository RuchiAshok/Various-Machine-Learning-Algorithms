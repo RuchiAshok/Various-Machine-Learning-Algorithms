{
 "cells": [
  {
   "cell_type": "markdown",
   "id": "2c8ffb82",
   "metadata": {},
   "source": [
    "# Importing Libraries"
   ]
  },
  {
   "cell_type": "code",
   "execution_count": 1,
   "id": "c5dc8bef",
   "metadata": {},
   "outputs": [],
   "source": [
    "import numpy as np\n",
    "import matplotlib.pyplot as plt"
   ]
  },
  {
   "cell_type": "markdown",
   "id": "a2b9ba0f",
   "metadata": {},
   "source": [
    "# Generating Dataset"
   ]
  },
  {
   "cell_type": "code",
   "execution_count": 2,
   "id": "69cafcc7",
   "metadata": {},
   "outputs": [],
   "source": [
    "from sklearn.datasets import make_gaussian_quantiles\n",
    "X, Y = make_gaussian_quantiles(n_samples=50, n_features=2, n_classes=2,random_state=1)\n",
    "Y = Y*2-1"
   ]
  },
  {
   "cell_type": "code",
   "execution_count": 3,
   "id": "74355512",
   "metadata": {},
   "outputs": [
    {
     "data": {
      "text/plain": [
       "(50, 2)"
      ]
     },
     "execution_count": 3,
     "metadata": {},
     "output_type": "execute_result"
    }
   ],
   "source": [
    "X.shape"
   ]
  },
  {
   "cell_type": "code",
   "execution_count": 4,
   "id": "87543971",
   "metadata": {},
   "outputs": [
    {
     "name": "stdout",
     "output_type": "stream",
     "text": [
      "[[-0.74715829  1.6924546 ]\n",
      " [-0.17242821 -0.87785842]\n",
      " [ 1.13162939  1.51981682]\n",
      " [-0.22232814 -0.20075807]\n",
      " [ 0.30017032 -0.35224985]\n",
      " [-1.44411381 -0.50446586]\n",
      " [-0.12289023 -0.93576943]\n",
      " [ 2.18557541 -1.39649634]\n",
      " [ 1.62434536 -0.61175641]\n",
      " [-0.62000084  0.69803203]\n",
      " [ 0.42349435  0.07734007]\n",
      " [ 1.46210794 -2.06014071]\n",
      " [-0.37528495 -0.63873041]\n",
      " [-0.19183555 -0.88762896]\n",
      " [ 0.16003707  0.87616892]\n",
      " [ 0.18656139  0.41005165]\n",
      " [ 0.3190391  -0.24937038]\n",
      " [ 0.48851815 -0.07557171]\n",
      " [-0.26788808  0.53035547]\n",
      " [ 0.90159072  0.50249434]\n",
      " [ 1.65980218  0.74204416]\n",
      " [ 0.05080775 -0.63699565]\n",
      " [-0.75439794  1.25286816]\n",
      " [ 0.90085595 -0.68372786]\n",
      " [ 1.19891788  0.18515642]\n",
      " [-1.10061918  1.14472371]\n",
      " [-0.67066229  0.37756379]\n",
      " [ 0.28558733  0.88514116]\n",
      " [ 0.19091548  2.10025514]\n",
      " [-0.20889423  0.58662319]\n",
      " [ 0.19829972  0.11900865]\n",
      " [ 0.04221375  0.58281521]\n",
      " [-0.67124613 -0.0126646 ]\n",
      " [ 0.12015895  0.61720311]\n",
      " [ 0.86540763 -2.3015387 ]\n",
      " [ 1.13376944 -1.09989127]\n",
      " [ 0.31563495 -2.02220122]\n",
      " [ 0.83898341  0.93110208]\n",
      " [-0.3224172  -0.38405435]\n",
      " [ 0.51292982 -0.29809284]\n",
      " [ 0.12182127  1.12948391]\n",
      " [ 1.74481176 -0.7612069 ]\n",
      " [-1.11731035  0.2344157 ]\n",
      " [ 0.23009474  0.76201118]\n",
      " [-0.6871727  -0.84520564]\n",
      " [-1.1425182  -0.34934272]\n",
      " [-0.69166075 -0.39675353]\n",
      " [-0.30620401  0.82797464]\n",
      " [-0.34385368  0.04359686]\n",
      " [-0.52817175 -1.07296862]]\n"
     ]
    }
   ],
   "source": [
    "print(X)"
   ]
  },
  {
   "cell_type": "code",
   "execution_count": 5,
   "id": "e02d387d",
   "metadata": {},
   "outputs": [
    {
     "name": "stdout",
     "output_type": "stream",
     "text": [
      "[ 1 -1  1 -1 -1  1  1  1  1  1 -1  1 -1 -1 -1 -1 -1 -1 -1  1  1 -1  1  1\n",
      "  1  1 -1 -1  1 -1 -1 -1 -1 -1  1  1  1  1 -1 -1  1  1  1 -1  1  1 -1 -1\n",
      " -1  1]\n"
     ]
    }
   ],
   "source": [
    "print(Y)"
   ]
  },
  {
   "cell_type": "markdown",
   "id": "5154249f",
   "metadata": {},
   "source": [
    "# Plot Function"
   ]
  },
  {
   "cell_type": "code",
   "execution_count": 6,
   "id": "80fbde92",
   "metadata": {},
   "outputs": [],
   "source": [
    "def plot(X,Y,a_output=None):\n",
    "    \n",
    "    fig, ax = plt.subplots(figsize=(5, 5))\n",
    "    s = np.ones(shape=X.shape[0])*50\n",
    "    \n",
    "    X_Neg = X[Y == -1]\n",
    "    s_Neg = s[Y == -1] \n",
    "    \n",
    "    X_Pos = X[Y == 1]\n",
    "    s_Pos = s[Y == 1]\n",
    "    \n",
    "    ax.scatter(*X_Neg.T, s=s_Neg, marker='.', c='blue')\n",
    "    ax.scatter(*X_Pos.T, s=s_Pos, marker='*', color='red')\n",
    "\n",
    "    if a_output:\n",
    "        p = 1\n",
    "        x_Min = X[:, 0].min() - p\n",
    "        Y_Min = X[:, 1].min() - p\n",
    "        \n",
    "        x_Max = X[:, 0].max() + p\n",
    "        Y_Max = X[:, 1].max() + p\n",
    "        \n",
    "        plt_step = 0.01\n",
    "        X_order = np.arange(x_Min, x_Max, plt_step)\n",
    "        Y_order = np.arange(Y_Min, Y_Max, plt_step)\n",
    "        \n",
    "        X1, Y1 = np.meshgrid(X_order,Y_order)\n",
    "        \n",
    "        A = a_output.predict(np.c_[X1.ravel(), Y1.ravel()])\n",
    "        A = A.reshape(X1.shape)\n",
    "        \n",
    "        if list(np.unique(A)) == [1]:\n",
    "            fill_colors = ['y']\n",
    "        else:\n",
    "            fill_colors = ['b', 'y']\n",
    "            \n",
    "        ax.contourf(X1, Y1, A, colors=fill_colors, alpha=0.2)"
   ]
  },
  {
   "cell_type": "code",
   "execution_count": 7,
   "id": "bd754b0b",
   "metadata": {},
   "outputs": [
    {
     "data": {
      "image/png": "[encoded data removed]",
      "text/plain": [
       "<Figure size 360x360 with 1 Axes>"
      ]
     },
     "metadata": {
      "needs_background": "light"
     },
     "output_type": "display_data"
    }
   ],
   "source": [
    "plot(X, Y)"
   ]
  },
  {
   "cell_type": "markdown",
   "id": "b29328f0",
   "metadata": {},
   "source": [
    "# Train Test Split"
   ]
  },
  {
   "cell_type": "code",
   "execution_count": 8,
   "id": "fd440154",
   "metadata": {},
   "outputs": [],
   "source": [
    "# Train & Test Split (in 70:30 , i.e. 70% training, 30% testing)\n",
    "from sklearn.model_selection import train_test_split\n",
    "X_train, X_test, Y_train, Y_test = train_test_split(X, Y, test_size = 0.3, random_state = 42)"
   ]
  },
  {
   "cell_type": "code",
   "execution_count": 9,
   "id": "94a9d000",
   "metadata": {},
   "outputs": [
    {
     "data": {
      "text/plain": [
       "(35, 2)"
      ]
     },
     "execution_count": 9,
     "metadata": {},
     "output_type": "execute_result"
    }
   ],
   "source": [
    "X_train.shape"
   ]
  },
  {
   "cell_type": "code",
   "execution_count": 10,
   "id": "58a8db29",
   "metadata": {},
   "outputs": [
    {
     "data": {
      "text/plain": [
       "(35,)"
      ]
     },
     "execution_count": 10,
     "metadata": {},
     "output_type": "execute_result"
    }
   ],
   "source": [
    "Y_train.shape"
   ]
  },
  {
   "cell_type": "code",
   "execution_count": 11,
   "id": "7713f9dd",
   "metadata": {},
   "outputs": [
    {
     "data": {
      "text/plain": [
       "(15, 2)"
      ]
     },
     "execution_count": 11,
     "metadata": {},
     "output_type": "execute_result"
    }
   ],
   "source": [
    "X_test.shape"
   ]
  },
  {
   "cell_type": "code",
   "execution_count": 12,
   "id": "c859d78f",
   "metadata": {},
   "outputs": [
    {
     "data": {
      "text/plain": [
       "(15,)"
      ]
     },
     "execution_count": 12,
     "metadata": {},
     "output_type": "execute_result"
    }
   ],
   "source": [
    "Y_test.shape"
   ]
  },
  {
   "cell_type": "markdown",
   "id": "9fd8022b",
   "metadata": {},
   "source": [
    "# AdaBoost Classifier"
   ]
  },
  {
   "cell_type": "code",
   "execution_count": 13,
   "id": "bcebbe24",
   "metadata": {},
   "outputs": [],
   "source": [
    "from sklearn.tree import DecisionTreeClassifier\n",
    "\n",
    "class AdaBoost_Classifier:\n",
    "    \n",
    "    def __init__(self):\n",
    "        self.stmp_weights = None\n",
    "        self.smpl_weights = None\n",
    "        self.errors = None\n",
    "        self.stmp = None\n",
    "              \n",
    "    def fit(self,X, y, iters: int):\n",
    "        n = X.shape[0]\n",
    "\n",
    "        self.stmp_weights = np.zeros(shape=iters)\n",
    "        self.smpl_weights = np.zeros(shape=(iters, n))\n",
    "        self.errors = np.zeros(shape=iters)\n",
    "        self.stmp = np.zeros(shape=iters, dtype=object)\n",
    "        self.smpl_weights[0] = np.ones(shape=n)/n\n",
    "\n",
    "        for i in range(iters):\n",
    "            \n",
    "            # Weak Learner Fitting\n",
    "            c_smpl_weights = self.smpl_weights[i]\n",
    "            \n",
    "            stump = DecisionTreeClassifier(max_depth=1, max_leaf_nodes=2)\n",
    "            stump = stump.fit(X, y, sample_weight=c_smpl_weights)\n",
    "\n",
    "            #Error and Stump weight Calculation from Weak Learner\n",
    "            stump_pred = stump.predict(X)\n",
    "            err = c_smpl_weights[(stump_pred != y)].sum()# / n\n",
    "            stump_weight = np.log((1 - err) / err) / 2\n",
    "\n",
    "            # Updating sample Weights\n",
    "            new_smpl_weights = (\n",
    "                c_smpl_weights * np.exp(-stump_weight * y * stump_pred)\n",
    "            )\n",
    "\n",
    "            new_smpl_weights /= new_smpl_weights.sum()\n",
    "\n",
    "            if i+1 < iters:\n",
    "                self.smpl_weights[i+1] = new_smpl_weights\n",
    "\n",
    "            self.stmp[i] = stump\n",
    "            self.stmp_weights[i] = stump_weight\n",
    "            self.errors[i] = err\n",
    "        return self\n",
    "\n",
    "    def predict(self, X):\n",
    "        stump_preds = np.array([stump.predict(X) for stump in self.stmp])\n",
    "        return np.sign(np.dot(self.stmp_weights, stump_preds))"
   ]
  },
  {
   "cell_type": "code",
   "execution_count": 14,
   "id": "8465c440",
   "metadata": {},
   "outputs": [],
   "source": [
    "a_Classifier = AdaBoost_Classifier()\n",
    "a_output = a_Classifier.fit(X_train, Y_train, iters=41)"
   ]
  },
  {
   "cell_type": "code",
   "execution_count": 15,
   "id": "6f34e045",
   "metadata": {},
   "outputs": [
    {
     "name": "stdout",
     "output_type": "stream",
     "text": [
      "Weights : [0.39007928 0.39422868 0.41906595 0.36082904 0.40446354 0.42608406\n",
      " 0.29502733 0.40588212 0.28547319 0.32675408 0.24465868 0.31889529\n",
      " 0.28794198 0.35543219 0.31226384 0.23655888 0.28581807 0.22123992\n",
      " 0.28618281 0.22145604 0.29404199 0.22607943 0.24872718 0.19852949\n",
      " 0.24614956 0.19689582 0.23379233 0.18896051 0.23200118 0.18779595\n",
      " 0.20298988 0.29378007 0.24559135 0.25844845 0.2046248  0.23960834\n",
      " 0.19271676 0.22224344 0.21845386 0.28147653 0.37464879]\n"
     ]
    }
   ],
   "source": [
    "print(\"Weights :\",a_output.stmp_weights)"
   ]
  },
  {
   "cell_type": "code",
   "execution_count": 16,
   "id": "48016c3e",
   "metadata": {},
   "outputs": [],
   "source": [
    "def accuracy(y_true, y_pred):\n",
    "        accuracy = np.sum(y_true == y_pred) / len(y_true)\n",
    "        return accuracy"
   ]
  },
  {
   "cell_type": "markdown",
   "id": "8be16f9f",
   "metadata": {},
   "source": [
    "# Plot of Train Dataset"
   ]
  },
  {
   "cell_type": "code",
   "execution_count": 17,
   "id": "49e80bd3",
   "metadata": {},
   "outputs": [
    {
     "name": "stdout",
     "output_type": "stream",
     "text": [
      "Train error: 0.0%\n"
     ]
    },
    {
     "data": {
      "image/png": "[encoded data removed]",
      "text/plain": [
       "<Figure size 360x360 with 1 Axes>"
      ]
     },
     "metadata": {
      "needs_background": "light"
     },
     "output_type": "display_data"
    }
   ],
   "source": [
    "plot(X_train, Y_train, a_output)\n",
    "trainError = (a_output.predict(X_train) != Y_train).mean()\n",
    "print(f'Train error: {trainError:.1%}')"
   ]
  },
  {
   "cell_type": "markdown",
   "id": "016c1a32",
   "metadata": {},
   "source": [
    "# Train Accuracy"
   ]
  },
  {
   "cell_type": "code",
   "execution_count": 18,
   "id": "0612df06",
   "metadata": {},
   "outputs": [
    {
     "name": "stdout",
     "output_type": "stream",
     "text": [
      "Train Accuracy: 100.0%\n"
     ]
    }
   ],
   "source": [
    "yt_pred = a_output.predict(X_train)\n",
    "acc = accuracy(Y_train, yt_pred)\n",
    "print(f'Train Accuracy: {acc:.1%}')"
   ]
  },
  {
   "cell_type": "markdown",
   "id": "7b723c0f",
   "metadata": {},
   "source": [
    "# Test Accuracy"
   ]
  },
  {
   "cell_type": "code",
   "execution_count": 19,
   "id": "0f198125",
   "metadata": {},
   "outputs": [
    {
     "name": "stdout",
     "output_type": "stream",
     "text": [
      "Test Accuracy: 100.0%\n"
     ]
    }
   ],
   "source": [
    "y_pred = a_output.predict(X_test)\n",
    "acc = accuracy(Y_test, y_pred)\n",
    "print(f'Test Accuracy: {acc:.1%}')"
   ]
  }
 ],
 "metadata": {
  "kernelspec": {
   "display_name": "Python 3 (ipykernel)",
   "language": "python",
   "name": "python3"
  },
  "language_info": {
   "codemirror_mode": {
    "name": "ipython",
    "version": 3
   },
   "file_extension": ".py",
   "mimetype": "text/x-python",
   "name": "python",
   "nbconvert_exporter": "python",
   "pygments_lexer": "ipython3",
   "version": "3.9.6"
  }
 },
 "nbformat": 4,
 "nbformat_minor": 5
}
